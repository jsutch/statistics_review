{
 "cells": [
  {
   "cell_type": "markdown",
   "metadata": {},
   "source": [
    "## Probability\n",
    "\n",
    "\n",
    "Probability is a value between 0 and 1 that a certain event will occur.\n",
    "\n",
    "- coin flip is .5 (1 / 2)\n",
    "\n",
    "Writing probability as a percentage - multiply by 100.\n",
    "e.g.\n",
    "0.5 * 100 == 50% probability.\n",
    "\n",
    "or dice - 1 in 6:\n",
    "1 / 6 = 0.16\n",
    ".16 * 100 = 16%\n",
    "\n",
    "\n",
    "The act of flipping a coin or rolling a dice is called a 'trial'\n",
    "\n",
    "Trials have no memory. If a fair coin comes up 5 heads in a row has no impact on the next toss.\n",
    "\n",
    "Each trial of flipping a coin can be called an 'experiment.'\n",
    "\n",
    "Each mutually exclusive outcome is called a 'simple event'\n",
    "\n",
    "The \"Sample Space\" is the sum of every possible 'simple event'\n",
    "\n",
    "The probability that a fair die will roll a six\n",
    "E6 = 6\n",
    "\n",
    "Total Sample Space:\n",
    "S = {e1, e2, e3, e4, e5, e6}\n",
    "\n",
    "The probability\n",
    "P(roll 6) = 1/6\n",
    "\n",
    "\n",
    "Exercise:\n",
    "\n",
    "Out of 50 trumpets, 1 has a defective valve. Each trumpet has 3 valves.\n",
    "\n",
    "1. What's the probability of having a defective valve?\n",
    "\n",
    "P(EdefectiveValve) = 1/50 = .02 or 2%\n",
    "\n",
    "2. What's the probability of having a defective valve by Trumpet?\n",
    "Since there are 3 valves per trumpet, multiply this by 3\n",
    "\n",
    "P(EdefectiveTrumpet) = 3* P(EdefectiveValve)\n",
    "3 * .02 == .06 or 6%\n"
   ]
  }
 ],
 "metadata": {
  "kernelspec": {
   "display_name": "Python 3",
   "language": "python",
   "name": "python3"
  },
  "language_info": {
   "codemirror_mode": {
    "name": "ipython",
    "version": 3
   },
   "file_extension": ".py",
   "mimetype": "text/x-python",
   "name": "python",
   "nbconvert_exporter": "python",
   "pygments_lexer": "ipython3",
   "version": "3.7.7"
  }
 },
 "nbformat": 4,
 "nbformat_minor": 4
}
