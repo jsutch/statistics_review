{
 "cells": [
  {
   "cell_type": "markdown",
   "metadata": {},
   "source": [
    "# Probability and Statistics for Business and Data Science\n"
   ]
  },
  {
   "cell_type": "markdown",
   "metadata": {},
   "source": [
    "## What is data?\n",
    "\n",
    "data is the collected observations we have about something\n",
    "\n",
    "data can be:\n",
    "- continuous: A continuous numerical value. stock price, value of home, age. Has variable granularity.\n",
    "- categorical: Categories have nothing in-between them. which car has the best repair history? what is the color of the car?\n",
    "\n",
    "Some Data Visualizations and Analytical techniques will only be applicable to Continuous OR Categorical Data. Not both. \n",
    "\n",
    "**Why Data Matters**\n",
    "It helps us understand things as they are. \n",
    "- What relationships, if any, exist between two events?\n",
    " This is important for things like Probability and Statistics where you're trying to determine if there's a relationship between event A and event B.\n",
    " e.g. stock price of an agricultural good and the weather in the region they are grown. Needs data and a method to analyze and interpret the data.\n",
    " \n",
    " For business, *past data can help predict future behavior to guide business decisions*. \n",
    " - based on a user's click history, which ad is most likely to bring them to our site?\n",
    " \n",
    "\n",
    "**Levels of Measurement**\n",
    "\n",
    "*Nominal*:  \n",
    "- predetermined categories\n",
    "- can't be sorted\n",
    "\n",
    "Animal classification (mammal, fish or reptile)  \n",
    "political party (republican, democrat, etc)  \n",
    "\n",
    "*Ordinal*:  \n",
    "- can be sorted\n",
    "- lacks numerical scale\n",
    "\n",
    "Survey responses (often, sometimes, seldom, never)  \n",
    "no scale from 0-100. Only buckets.  \n",
    "It's sorted - we know that often is on top of sometimes which is on top of seldom which supercedes never  \n",
    "\n",
    "*Interval*:  \n",
    "- provides scale\n",
    "- lacks a 'Zero' point. lacks a 'floor'\n",
    "\n",
    "with a F or C thermometer - values can be positive or negative. No \"stopping point\"  \n",
    "(apparently kelvin has a floor)\n",
    "\n",
    "*Ratio*:  \n",
    "- Values have a true zero point\n",
    "- on a scale\n",
    "\n",
    "Age, weight or salary\n",
    "\n",
    "\n",
    "\n",
    "**Visualizing Data**\n",
    "When reading a table. Computers are great for processing tabled data, humans are bad. Need to process to interpret.\n",
    "- compare a Table of data to a Heatmap of data. Easier to see trends. \n",
    "\n",
    "Must analyze visualizations critically. It's easy to misunderstand a graph or have it crafted to lead you to a bad conclusion. \n",
    "\n",
    "The graphic on the left would seem to indicate that people make more insurance claims as they get older (30-35 is larger than 25-30). Looking more closely you see that the X axis doesn't start at Zero. Looking at all the data you can see that all of the age segments both before and after are higher than the examples shown.\n",
    "\n",
    "<img src=\"misleading-visualization.png\" width=\"800\" height=\"400\">\n",
    "\n",
    "\n",
    " "
   ]
  },
  {
   "cell_type": "markdown",
   "metadata": {},
   "source": [
    "**Statistics Symbols in MathJax and markdown**\n",
    "\n",
    "<img src=\"statistics_symbols.png\" width=\"400\" height=\"200\">\n",
    "Double $$ formatting justifies to center. \n",
    "\n",
    "- x squared: ```$$x^2$$```\n",
    "$$x^2$$\n",
    "\n",
    "Single justifies to left:\n",
    "- x squared: ```$x^2$```\n",
    "$x^2$\n",
    "- x to the power of -3: ```$x^{-3}$```\n",
    "$x^{-3}$\n",
    "- x cubed: ```$x^{3}$```\n",
    "$x^{3}$\n",
    "- x sub-1: ```$ x_1 $```\n",
    "$ x_1 $\n",
    "- X factorial: x! (4! = 4 * 3 * 2 * 1)\n",
    "\n",
    " x!\n",
    "- X bar (x hat) ```$ \\bar{x} $```\n",
    "$ \\bar{x} $\n",
    "- mu: ```$ \\mu, M $```\n",
    "$ \\mu, M $\n",
    "- sigma:```$$ \\sigma, \\Sigma $$```\n",
    "$ \\sigma,\\Sigma $\n",
    "\n",
    "\n",
    "### Setting equations\n",
    "**The probability of getting (k) heads when flipping (n) coins:**\n",
    "\n",
    "```\n",
    "\\begin{equation*}\n",
    "P(E)   = {n \\choose k} p^k (1-p)^{ n-k}\n",
    "\\end{equation*}\n",
    "```\n",
    "$\n",
    "\\begin{equation*}\n",
    "P(E)   = {n \\choose k} p^k (1-p)^{ n-k}\n",
    "\\end{equation*}\n",
    "$\n",
    "\n",
    "\n",
    "**Division**\n",
    "\n",
    "```\n",
    "$\n",
    "\\begin{equation*}\n",
    "\\frac{y X}{z U}\n",
    "\\end{equation*}\n",
    "$```\n",
    "\n",
    "$\n",
    "\\begin{equation*}\n",
    "\\frac{y X}{z U}\n",
    "\\end{equation*}\n",
    "$\n",
    "\n",
    "**Bayes Theorem**\n",
    "```\n",
    "$ P(A|B) = \\frac{P(B|A)P(A)}{P(B)} $\n",
    "\n",
    "$ P(A|B) = \\frac{P(B|A)P(A)}{P(B|A)P(A) + P(B|not A)P(not A)} $\n",
    "```\n",
    "$ P(A|B) = \\frac{P(B|A)P(A)}{P(B)} $\n",
    "\n",
    "or\n",
    "\n",
    "$ P(A|B) = \\frac{P(B|A)P(A)}{P(B|A)P(A) + P(B|not A)P(not A)} $\n",
    "\n",
    "**greater than or equal to/less than or equal to using \\mathrel**\n",
    "\n",
    "```\n",
    "$ x > y $\n",
    "$ x \\bar{>} y $\n",
    "$ x \\mathrel{\\bar{<}} y $\n",
    "```\n",
    "- $ x > y $\n",
    "- $ x \\bar{>} y $\n",
    "- $ x \\mathrel{\\bar{<}} y $\n",
    "\n",
    "**using less then equals/greater than equals**\n",
    "```\n",
    "$ a\\leq b\\geq c $\n",
    "```\n",
    "\n",
    "- $ a\\leq b\\geq c $"
   ]
  },
  {
   "cell_type": "markdown",
   "metadata": {},
   "source": [
    "## Measuring Data\n",
    "\n",
    "(general overview of exponents and other math and stats terms)\n",
    "\n",
    "Some interesting stuff:\n",
    "\n",
    "Used a lot in stats.\n",
    "- x to the power of -3 \n",
    "$\n",
    "x^{-3} = \\frac{1}{x * x * x}\n",
    "$\n",
    "\n",
    "Example:\n",
    "$$\n",
    "2^{-3} = \\frac{1}{2 * 2 * 2} = \\frac{1}{8} = .125\n",
    "$$\n",
    "\n",
    "Also, x to a fraction\n",
    "\\begin{equation*}\n",
    "x^{\\Bigl(\\frac{1}{n}\\Bigr)} = {^{n}\\sqrt{x}}\n",
    "\\end{equation*}\n",
    "\n",
    "Example:\n",
    "\\begin{equation*}\n",
    "8^{\\Bigl(\\frac{1}{3}\\Bigr)} = {^{3}\\sqrt{8}} = 2\n",
    "\\end{equation*}\n",
    "\n",
    "\n",
    "**Factorials**\n",
    "x! = x * (x - 1) * (x -2) * (x -3) ... * 1\n",
    "\n",
    "Example:\n",
    "- 6! = 6 * 5 * 4 * 3 * 2 * 1 = 720\n",
    "\n",
    "Another example:\n",
    "- $ \\frac{5!}{3!} = \\frac{5 x 4 x 3 x 2 x 1}{3 x 2 x 1} = 5 x 4 = 20 $\n",
    "\n",
    "cancelling works:\n",
    "- 5 x 4 x 3 x 2 x 1 and 3 x 2 x 1 - cancel the 3 x 2 x 1 in both and just use 5 x 4 (20)\n",
    "\n",
    "**Simple Sums**\n",
    "- *x* (bottom of the sigma) is the starting point (x = 1) and the ending point is *n*\n",
    "\n",
    "$ {\\Sigma^{n}_{x=1}x} = 1 + 2 + 3 + 4 + ...n $\n",
    "\n",
    "Example 1:\n",
    "\n",
    "$ {\\Sigma^{4}_{x=1}x} = 1 + 2 + 3 + 4 = 10 $\n",
    "\n",
    "Example 2:\n",
    "\n",
    "$ {\\Sigma^{n}_{x=1}x^{2}} = 1 + 4 + 9 + 16 = 30  $\n",
    "\n",
    "Each step is a square of the number, so:\n",
    "$ 1^{2} = 1, 2^{2} = 4, 3^{2} = 9, 4^{2} = 16 $\n",
    "\n",
    "**Series Sums**\n",
    "\n",
    "Indicates dealing with a subset of numbers rather than a continuous sum\n",
    "\n",
    "$ {\\Sigma^{n}_{i=1}x_{i}} = x_{1} + x_{2} + x_{3} + x_{4} + ...x_{n} $\n",
    "\n",
    "Example: \n",
    "- there's a set of numbers for x: x = {5, 3, 2, 8}\n",
    "- *n* = 'number of elements in x' = 4\n",
    "- i becomes an 'index' \n",
    "\n",
    "$ {\\Sigma^{4}_{i=1}x_{i}} = 5 + 3 + 2 + 8 = 18 $\n",
    "\n",
    "\n",
    "**Equation Example - formula for calculating a sample mean**\n",
    "\n",
    "*sample mean* will be used indicating measurements of central tendancy.\n",
    "\n",
    "$ \\bar{x} = \\frac{\\Sigma^{n}_{i} = 1^{x_{i}}}{n} $\n",
    "\n",
    "read aloud this sounds like:\n",
    "\n",
    "\"*x-bar* is equal to the sum ($ \\Sigma $) of all the *x-sub-i* values in the series as *i* goes from 1 to the number *n* items in the series divided by *n*\"\n",
    "\n",
    "Which is the formal way of saying \"take the mean\" or \"sum up all the items and divide by the number of items\"\n",
    "\n",
    "Broken down further:\n",
    "1. Start with a series of values {7,8,9,10}\n",
    "2. Assign a placeholder for each item {'1':7,'2':8,'3':9,'4':10} (4 items, not starting from zero)\n",
    "3. These become $ x_{1}, x_{2}, ... $ ( $ x_{1} = 7, x_{2} = 8, x_{3} = 9, x_{4} = 10 $ )\n",
    "\n",
    "So:\n",
    "\n",
    "$ \\bar{x} = \\frac{\\Sigma^{n}_{i} = 1^{x_{i}}}{n} = \\frac{$ x_{1} + x_{2} + x_{3} + x_{4}... + x_{n}} {n} =  \\frac{7 + 8 + 9 + 10} {4} = \\frac{34}{4} = 8.5 $\n",
    "\n",
    "\n"
   ]
  },
  {
   "cell_type": "markdown",
   "metadata": {},
   "source": [
    "## Measurements of Central Tendancy\n",
    "\n",
    "To answer the question *\"What was the average return\"* use **\"Measures Of Central Tendency\"**\n",
    "\n",
    "To answer the question *\"How far from average did individual values stray\"* use **\"Measures Of Dispersion\"**\n",
    "\n",
    "**Measures of Central Tendency** \n",
    "- Mean\n",
    "- Median\n",
    "- Mode\n",
    "\n",
    "What they *do*:\n",
    "- describes the *location* of the data along some sort of axes\n",
    "\n",
    "What they *don't do*:\n",
    "- they fail to describe the *shape* of the data\n",
    "\n",
    "**Mean** - calculated average (sum of values divided by number of values)\n",
    "**Median** - *middle value* in dataset \n",
    "**Mode** - *most commonly occuring* value in dataset\n",
    "\n",
    "![Mean Median and Mode](mean_median_mode.png)\n",
    "\n",
    "\n",
    "**Mean**\n",
    "Shows the location of the data, but not *how spread out (dispersion)* the datapoints are\n",
    "\n",
    "**Median**\n",
    "\n",
    "The centermost value. \n",
    "- If Odd number of values: *take the centermost value*\n",
    "- If Even number of values: *take the average of the two centermost values*\n",
    "\n",
    "The *mean* can be influenced by *Outliers*:\n",
    "\n",
    "e.g. {2,3,2,3,2,12}, mean = 4\n",
    "\n",
    "Most of the numbers are either 2 or 3 (which without the 12 would have a mean of 3), but the larger number skews it north. The *median* is 2.5 which is much closer to the \"center\" of the values in the series.\n",
    "\n",
    "**Mode**\n",
    "[10,10,11,13,15,16,16,16,21,23,28,30,33,34,36,44] - the mode is 16, which appears 3 times.\n",
    "\n",
    "16 = 3\n",
    "10 = 2\n",
    "all else = 1\n",
    "\n"
   ]
  },
  {
   "cell_type": "markdown",
   "metadata": {},
   "source": [
    "## Measurements Of Dispersion\n",
    "\n",
    "**Range, Variance, Standard Deviation**\n",
    "\n",
    "(9,10,11,13,15,6,19,19,21,23,28,30,33,34,36,39)\n",
    "\n",
    "The *mean* is 22.25. This doesn't tell us the *dispersion* of the data (or how 'spread out' the numbers are).\n",
    "\n",
    "**Range** \n",
    "- *range* = (Max - Min)\n",
    "- 39 - 9 = 30\n",
    "\n",
    "\n",
    "\n",
    "\n",
    "**Variance**\n",
    "- The Sum Of Square Distances from each point to the Mean of the dataset\n",
    "- There's a difference between *Sample Variance* and *Population Variance*: *Bessel's Correction*\n",
    "- Sample Variance uses Bessel's Correction (*n-1*) in the denominator\n",
    "- Population Variance uses *n*\n",
    "\n",
    "\n",
    "*Sample Variance:*\n",
    "\n",
    "$s^{2} = \\frac{\\Sigma(x - \\bar{x}^{2})} {n - 1}$\n",
    "\n",
    "*Population Variance:*\n",
    "\n",
    "$ \\sigma^{2} = \\frac{\\Sigma(X - \\mu)^{2}} {N} $\n",
    "\n",
    "\n",
    "**Bessel's Correction** is an attempt to *reduce the bias* in a *finite sample size*. It corrects for the bias when *estimating* the population variance. Since every data point can't be taken into account, (n - 1) attempts to make the *overall variance larger*. This is because *as the numerator gets larger, the variance gets smaller*. \n",
    "\n",
    "\n",
    "\n",
    "**Calculating Sample Variance**\n",
    "\n",
    "$s^{2} = \\frac{\\Sigma(x - \\bar{x}^{2})} {n - 1}$\n",
    "\n",
    "sample: 4, 7, 9, 8, 11\n",
    "\n",
    "How Dispersed Are The Samples Points?\n",
    "\n",
    "First calculate $\\bar{x}$:\n",
    "\n",
    "$\\bar{x} = \\frac{4 + 7 + 9 + 8 + 11} {5} = \\frac{39} {5} = 7.8$\n",
    "\n",
    "So Sample Mean = 7.8.\n",
    "\n",
    "Now Calculate the Variance:\n",
    "\n",
    "$s^{2} = \\frac{(4 - 7.8)^{2} + (7 - 7.8)^{2} + (9 - 7.8)^{2} + (8 - 7.8)^{2} + (11 - 7.8)^{2}} {5 -1}$\n",
    "\n",
    "1. take each of the numbers in the set\n",
    "2. subtract the sample mean\n",
    "3. square the result\n",
    "4. Sum the results\n",
    "5. divide by (n - 1)\n",
    "\n",
    "This equals 6.7. So\n",
    "\n",
    "Sample Variance = 6.7\n",
    "\n",
    "When you get the value back it comes back in *units squared*. \n",
    "- If it were ages, then the variance would be '6.7 years squared'\n",
    "- this makes it a little harder to apply to real world units\n",
    "\n",
    "\n",
    "**Standard Deviation**\n",
    "\n",
    "*The Square Root of the Variance*\n",
    "\n",
    "Benefit:\n",
    "- Same Unit As The Sample\n",
    "- Meaningful To Talk About. You can speak of values that lie within \"1 standard deviation of the mean\" or \"2 standard deviations of the mean\". \n",
    "\n",
    "*The Formulas:*  \n",
    "The same problem of Bessel applies to Sampled Data vs Total Population, so samples should use *(n -1)* and total should use *N*\n",
    "\n",
    "Formula For Sampled Data:\n",
    "$\\sqrt{s^{2} = \\frac{\\Sigma(x - \\bar{x}^{2})} {n - 1}}$\n",
    "\n",
    "Formula for Total Population:\n",
    "$\\sqrt{s^{2} = \\frac{\\Sigma(x - \\bar{x}^{2})} {N}}$\n",
    "\n",
    "In this case $\\sqrt{Earlier Calculated Sample Variance}$  \n",
    "so:\n",
    "\n",
    "$\\sqrt{6.7}$  \n",
    "\n",
    "In [21]: round(math.sqrt(6.7),2)  \n",
    "Out[21]: 2.59\n",
    "\n",
    "**StdDev = 2.59**\n",
    "\n",
    "\n"
   ]
  },
  {
   "cell_type": "markdown",
   "metadata": {},
   "source": [
    "## Quartiles and Box Plots\n",
    "\n",
    "Quartiles - \n",
    "IQR - InterQuartile Range\n",
    "\n",
    "Boxplots visualize *dispersion in a dataset*\n",
    "\n",
    "In statistics, dispersion (also called variability, scatter, or spread) is the extent to which a distribution is stretched or squeezed.\n",
    "\n",
    "With quartiles *every data point is considered*. It's not an aggregate like Mean or Variance.\n",
    "\n",
    "9,10,10, 11, 13, 15, 16, 19, 19, 21, 23, 28, 30, 33, 34, 36, 44, 45, 47, 60\n",
    "\n",
    "1. Divide the series in half. (same as finding the *median*)\n",
    "9,10,10, 11, 13, 15, 16, 19, 19, 21 and 23, 28, 30, 33, 34, 36, 44, 45, 47, 60\n",
    "2. divide each subseries in half. The areas between are the quartiles:\n",
    "Quartiles:\n",
    "                  1st (14)        2nd (median) (22)      3rd (35)\n",
    "9, 10, 10, 11, 13 | 15, 16, 19, 19, 21 | 23, 28, 30, 33, 34 | 36, 44, 45, 47, 60\n",
    "\n",
    "\n",
    "The data is now broken down into 4 same-sized buckets.\n",
    "- The first quartile will be the value that splits the values on either side in half.\n",
    "- Quartile ranges are seldom the same size\n",
    "\n",
    "\n",
    "Calculating IQR:  \n",
    "In [25]: import numpy as np  \n",
    "In [26]: data = [32, 36, 46, 47, 56, 69, 75, 79, 79, 88, 89, 91, 92, 93, 96, 97, 101, 105, 112, 116]  \n",
    "In [27]: Q1 = np.median(data[:10])  \n",
    "In [28]: Q3 = np.median(data[10:])  \n",
    "In [29]: IQR = Q3 - Q1  \n",
    "In [30]: print(IQR)  \n",
    "34.0  \n",
    "*get Quartile Deviation*  \n",
    "In [31]: qd = IQR / 2  \n",
    "    ...: print(qd)  \n",
    "17.0\n",
    "\n",
    "Boxplot visualization\n",
    "- The boxplot is %50 of all the data points\n",
    "- The line in the box is the median of the data\n",
    "- Whisker on either end are the Min and Max values\n",
    "- good at describing center and variability of the data.\n",
    "- also useful for detecting outliers in the data.\n",
    "\n",
    "\n",
    "\n",
    "*BoxPlot Components*  \n",
    "- Minimum Score: The lowest score, excluding outliers (shown at the end of the left whisker).\n",
    "- Lower Quartile: Twenty-five percent of scores fall below the lower quartile value (also known as the first quartile).\n",
    "- Median: The median marks the mid-point of the data and is shown by the line that divides the box into two parts (sometimes known as the second quartile). Half the scores are greater than or equal to this value and half are less.\n",
    "- Upper Quartile: Seventy-five percent of the scores fall below the upper quartile value (also known as the third quartile). Thus, 25% of data are above this value.\n",
    "- Maximum Score: The highest score, excluding outliers (shown at the end of the right whisker).\n",
    "- Whiskers: The upper and lower whiskers represent scores outside the middle 50% (i.e. the lower 25% of scores and the upper 25% of scores).\n",
    "- The Interquartile Range (or IQR): This is the box plot showing the middle 50% of scores (i.e., the range between the 25th and 75th percentile).\n",
    "- The interquartile range (IQR) is the box plot showing the middle 50% of scores and can be calculated by subtracting the lower quartile from the upper quartile (e.g. Q3−Q1). \n",
    "\n",
    "\n",
    "Box Plot\n",
    "<img src=\"boxplot.jpg\" width=\"400\" height=\"200\">\n",
    "\n",
    "**Box plots are useful as they show the skewness of a data set**  \n",
    "The box plot shape will show if a statistical data set is normally distributed or skewed.\n",
    "- When the median is in the middle of the box, and the whiskers are about the same on both sides of the box, then the distribution is symmetric.\n",
    "- When the median is closer to the bottom of the box, and if the whisker is shorter on the lower end of the box, then the distribution is positively skewed (skewed right).\n",
    "- When the median is closer to the top of the box, and if the whisker is shorter on the upper end of the box, then the distribution is negatively skewed (skewed left). \n",
    "\n",
    "\n",
    "<img src=\"boxplots-skewed.jpg\" width=\"250\" height=\"300\">\n",
    "\n",
    "- The smallest value and largest value are found at the end of the ‘whiskers’ and are useful for providing a visual indicator regarding the spread of scores (e.g. the range). \n",
    "<img src=\"boxplot-outliers.png\" width=\"400\" height=\"200\">\n",
    "\n",
    "Fences and Outliers  \n",
    "Outliers - Data outside of the fence\n",
    "Fences - typically set at 1.5 times the width of the IQR.  \n",
    "Outliers are determined directly by the Data, not an arbirary percentage.\n",
    "\n"
   ]
  },
  {
   "cell_type": "code",
   "execution_count": 60,
   "metadata": {},
   "outputs": [
    {
     "data": {
      "image/png": "[encoded data removed]",
      "text/plain": [
       "<Figure size 432x288 with 1 Axes>"
      ]
     },
     "metadata": {
      "needs_background": "light"
     },
     "output_type": "display_data"
    }
   ],
   "source": [
    "# import pandas\n",
    "import pandas as pd\n",
    "# import matplotlib\n",
    "import matplotlib.pyplot as plt\n",
    "# import seaborn\n",
    "import seaborn as sns\n",
    "%matplotlib inline\n",
    "\n",
    "# -25, 70 and 75 should show up as outliers\n",
    "arr1 = [-25, 9,10,10, 11, 13, 15, 16, 19, 19, 21, 23, 28, 30, 33, 34, 36, 44, 45, 47, 70,75]\n",
    "\n",
    "sns.boxplot(x=arr1, \n",
    "            whis=1.5,\n",
    "           showmeans=True, \n",
    "            notch=False)\n",
    "\n",
    "# Add StripPlot\n",
    "bplot=sns.stripplot(x=arr1, \n",
    "                   jitter=True, \n",
    "                   marker='o', \n",
    "                   alpha=0.5,\n",
    "                   color='black')\n",
    "# Add SwarmPlot\n",
    "bplot=sns.swarmplot(x=arr1,\n",
    "              color='black',\n",
    "              alpha=0.75)\n",
    "# adding other labels (not implemented)\n",
    "labels=['first','second(median)','third']\n",
    "points = [14,22,35]\n",
    "tags = zip(labels, points)\n"
   ]
  },
  {
   "cell_type": "markdown",
   "metadata": {},
   "source": [
    "## Bi-Variate Data and Covariance and Correlation\n",
    "\n",
    "Single variable data is **Univariate**.  \n",
    "**Bi-Variate Data** is *Data that compares two variables*, typically to see if there's correlation.\n",
    "- by convention the x-axis is set to the *Independant Variable*\n",
    "- y-axis will be set to the *dependant variable* - the dataset that's being measured *relative to x*\n",
    "\n",
    "*Scatter Plots* are a good way to uncover a *correlation* between two variables. \n",
    "\n",
    "This is primarily done to discover a *relationship*, but not necessarily *causality*. *Correlation doesn't prove causality definitively*. More analysis needs to be done to determine causality and there are statistical methods to approach this. \n",
    "\n",
    "Two main parts of correlation:\n",
    "- Positive Correlation: when you increase the value of one variable the value of another variable also increases\n",
    "- Negative Correlation (Inverse Correlation): When x increases, y decreases.\n",
    "\n",
    "\n",
    "**Covariance** - a common way to compare two variables is to compare their *variances*. \"How far from each items *mean* do typical values fall?\n",
    "- The first challenge is *matching scale*. Comparing Height In Inches or Weight In Pounds isn't meaningful unless we can develop a *Standard Score* to Normalize the data.\n",
    "\n",
    "*Population Covariance*  \n",
    "$ cov(X,Y) = \\frac{1}{N}\\Sigma^{N}_{i=1}(x_{i} - \\bar{x})(y_{i} - \\bar{y})$\n",
    "\n",
    "For this to work we need the same number of points in both x and y. \n",
    "\n",
    "\n"
   ]
  },
  {
   "cell_type": "code",
   "execution_count": 127,
   "metadata": {},
   "outputs": [],
   "source": [
    "# Covariance Exercise\n",
    "plt.rcParams[\"patch.force_edgecolor\"] = True # in matplotlib, edge borders are turned off by default.\n",
    "sns.set_style(\"darkgrid\") # set a grey grid as a background\n",
    "# x is the same in both - y is different\n",
    "df1 = pd.DataFrame({'x':[1,2,3,4,5,6],'y':[4,6,5,7,9,8]})\n",
    "df2 = pd.DataFrame({'x':[1,2,3,4,5,6],'y':[5,9,7,4,8,6]})"
   ]
  },
  {
   "cell_type": "code",
   "execution_count": 74,
   "metadata": {},
   "outputs": [
    {
     "data": {
      "text/plain": [
       "<matplotlib.axes._subplots.AxesSubplot at 0x12490abd0>"
      ]
     },
     "execution_count": 74,
     "metadata": {},
     "output_type": "execute_result"
    },
    {
     "data": {
      "image/png": "[encoded data removed]",
      "text/plain": [
       "<Figure size 432x288 with 1 Axes>"
      ]
     },
     "metadata": {},
     "output_type": "display_data"
    }
   ],
   "source": [
    "sns.scatterplot(df1['x'],df1['y'])"
   ]
  },
  {
   "cell_type": "code",
   "execution_count": 75,
   "metadata": {},
   "outputs": [
    {
     "data": {
      "text/plain": [
       "<matplotlib.axes._subplots.AxesSubplot at 0x1244f6090>"
      ]
     },
     "execution_count": 75,
     "metadata": {},
     "output_type": "execute_result"
    },
    {
     "data": {
      "image/png": "[encoded data removed]",
      "text/plain": [
       "<Figure size 432x288 with 1 Axes>"
      ]
     },
     "metadata": {},
     "output_type": "display_data"
    }
   ],
   "source": [
    "sns.scatterplot(df2['x'],df2['y'])"
   ]
  },
  {
   "cell_type": "markdown",
   "metadata": {},
   "source": [
    "$\\bar{x}$ is used to represent the sample mean used to estimate the true population parameter.\n",
    "\n",
    "Calculate $\\bar{x}$ for df1  \n",
    "$\\bar{x} = \\frac{1 + 2 + 3 + 4 + 5 + 6} {6} = 3.5 $  \n",
    "Calculate $\\bar{y}$ for df1  \n",
    "$\\bar{y} = \\frac{4 + 6 + 5 + 7 + 9 + 8} {6} = 6.5 $  \n",
    "Calculate $\\bar{x}$ for df2  \n",
    "$\\bar{x} = \\frac{1 + 2 + 3 + 4 + 5 + 6} {6} = 3.5 $  \n",
    "Calculate $\\bar{y}$ for df2  \n",
    "$\\bar{y} = \\frac{5 + 9 + 7 + 4 + 8 + 6} {6} = 6.5 $  \n",
    "\n",
    "Notice that the means are exactly the same.\n",
    "df1['x'].mean(), df1['y'].mean(), df2['x'].mean(), df2['y'].mean()\n",
    "(3.5, 6.5, 3.5, 6.5)\n",
    "\n",
    "- Then calculate the value of x,y with the mean of sum(x), sum(y) subtracted. $(x - \\bar{x}), (y - \\bar{y})$ \n",
    "- Now calculate $((x - \\bar{x}) (y - \\bar{y}))$\n",
    "df1  \n",
    "x\ty\tx-bar\ty-bar\t(x - x-bar)\t(y - y-bar)\t(x - x-bar)(y - y-bar)  \n",
    "1\t4\t3.5\t6.5\t-2.5\t-2.5\t6.25  \n",
    "2\t6\t3.5\t6.5\t-1.5\t-0.5\t0.75  \n",
    "3\t5\t3.5\t6.5\t-0.5\t-1.5\t0.75  \n",
    "4\t7\t3.5\t6.5\t0.5\t0.5\t0.25  \n",
    "5\t9\t3.5\t6.5\t1.5\t2.5\t3.75  \n",
    "6\t8\t3.5\t6.5\t2.5\t1.5\t3.75  \n",
    "df2:  \n",
    "x\ty\tx-bar\ty-bar\t(x - x-bar)\t(y - y-bar)\t(x - x-bar)(y - y-bar)  \n",
    "1\t5\t3.5\t6.5\t-2.5\t-1.5\t3.75  \n",
    "2\t9\t3.5\t6.5\t-1.5\t2.5\t-3.75  \n",
    "3\t7\t3.5\t6.5\t-0.5\t0.5\t-0.25  \n",
    "4\t4\t3.5\t6.5\t0.5\t-2.5\t-1.25  \n",
    "5\t8\t3.5\t6.5\t1.5\t1.5\t2.25  \n",
    "6\t6\t3.5\t6.5\t2.5\t-0.5\t-1.25  \n",
    "\n",
    "\n",
    "- And sum the (x - x-bar)(y - y-bar):\n",
    "df1['(x - x-bar)(y - y-bar)'].sum(), df2['(x - x-bar)(y - y-bar)'].sum()  \n",
    "(15.5, -0.5)\n",
    "\n",
    "- Then Calculate the *Covariance* - the mean of the sums $((x - \\bar{x})* (y - \\bar{y})).sum()/ 6 $ or *cov(x,y)*:  \n",
    "df1['(x - x-bar)(y - y-bar)'].sum() / 6, df2['(x - x-bar)(y - y-bar)'].sum()/6  \n",
    "(2.58, -0.083)\n",
    "\n",
    "Covariance can be positive or negative.\n",
    "\n",
    "\n",
    "We can now compare the covariances to build an understanding of the relationship between the two datagroups.\n",
    "\n",
    "df1 cov(x,y) = 2.58, df2 cov(x,y)  = -0.083\n",
    "\n",
    "Comparing against the scatterplots you can gather that the farther the cov() value is from zero, the more the relationship. *The farther from zero you get the x,y variables tend to vary in-sync with each other.*\n",
    "\n",
    "\n",
    "This is the basis for p-value (Pearson Correlation Coefficient). \n",
    "\n",
    "p-value is more succinct than covariance() in the way that StdDev is more succinct than variance().\n",
    "\n",
    "covariance stems from variance, Pearson stems from standard deviation.\n"
   ]
  },
  {
   "cell_type": "code",
   "execution_count": 135,
   "metadata": {},
   "outputs": [],
   "source": [
    "# summary of df updates\n",
    "df1['x-bar'] = [3.5,3.5,3.5,3.5,3.5,3.5]\n",
    "df1['y-bar'] = [6.5,6.5,6.5,6.5,6.5,6.5]\n",
    "df2['x-bar'] = [3.5,3.5,3.5,3.5,3.5,3.5]\n",
    "df2['y-bar'] = [6.5,6.5,6.5,6.5,6.5,6.5]\n",
    "df1['(x - x-bar)'] = df1['x'] - df1['x-bar'] \n",
    "df1['(y - y-bar)'] = df1['y'] - df1['y-bar'] \n",
    "df2['(x - x-bar)'] = df2['x'] - df2['x-bar'] \n",
    "df2['(y - y-bar)'] = df2['y'] - df2['y-bar'] \n",
    "df1['(x - x-bar)(y - y-bar)'] = df1['(x - x-bar)'] * df1['(y - y-bar)']\n",
    "df2['(x - x-bar)(y - y-bar)'] = df2['(x - x-bar)'] * df2['(y - y-bar)']"
   ]
  },
  {
   "cell_type": "code",
   "execution_count": 136,
   "metadata": {},
   "outputs": [
    {
     "data": {
      "text/plain": [
       "(15.5, -0.5)"
      ]
     },
     "execution_count": 136,
     "metadata": {},
     "output_type": "execute_result"
    }
   ],
   "source": [
    "# Sum of the (x - x-bar)(y - y-bar)\n",
    "df1['(x - x-bar)(y - y-bar)'].sum(), df2['(x - x-bar)(y - y-bar)'].sum()"
   ]
  },
  {
   "cell_type": "code",
   "execution_count": 140,
   "metadata": {},
   "outputs": [
    {
     "data": {
      "text/plain": [
       "(2.5833333333333335, -0.08333333333333333)"
      ]
     },
     "execution_count": 140,
     "metadata": {},
     "output_type": "execute_result"
    }
   ],
   "source": [
    "# Covariance - the mean of the sums\n",
    "df1['(x - x-bar)(y - y-bar)'].sum() / 6, df2['(x - x-bar)(y - y-bar)'].sum()/6"
   ]
  },
  {
   "cell_type": "markdown",
   "metadata": {},
   "source": [
    "## Pearson Correlation Coefficient - p-value\n",
    "\n",
    "Standardizes the correlation metric between different sets of bi-variate data. \n",
    "- normalizes the data to always be between -1 and 1.\n",
    "\n",
    "Spearman's Rho is a non-parametric test used to measure the strength of association between two variables, where the value r = 1 means a perfect positive correlation and the value r = -1 means a perfect negataive correlation.\n",
    "\n",
    "ρ -  strength of correlation (-1 to 1 - perfect negative to perfect positive)\n",
    "\n",
    "$\\rho $ - greek letter 'rho'  \n",
    "$\\sigma $ - standard deviation  \n",
    "$\\bar{x},\\bar{y} $ - mean of x,y  \n",
    "cov - covariance\n",
    "\n",
    "$\\rho x,y = \\frac {cov(X,Y)}{\\sigma_{x}\\sigma_{i}} = \\frac{\\frac{1}{N}\\Sigma(x - \\bar{x})(y - \\bar{y})}{\\sqrt[]{\\frac{\\sqrt{(\\Sigma(x - \\bar{x})}}{n} \\frac{\\sqrt{(\\Sigma(y - \\bar{y})}}{n}}}  = \\frac{\\Sigma(x - \\bar{x})(y - \\bar{y})}{\\sqrt{(\\Sigma(x - \\bar{x})^{2}}{n} \\sqrt{(\\Sigma(y - \\bar{y})^{2}}{n}}$\n",
    "\n",
    "1 - is a positive linear correlation  \n",
    "0 - no correlation  \n",
    "-1 - negative linear correlation\n",
    "\n",
    "\n",
    "Scatterplot examples of Correlation:  \n",
    "![Correlation Examples](Correlation_examples2.svg)\n",
    "\n",
    "Example:  \n",
    "- Company decides to test sales in 5 different markets to determine the best price point\n",
    "- They set a different price in each market and record sales volume over the same 30-day period"
   ]
  },
  {
   "cell_type": "code",
   "execution_count": 165,
   "metadata": {},
   "outputs": [
    {
     "data": {
      "text/plain": [
       "<matplotlib.axes._subplots.AxesSubplot at 0x1053d2150>"
      ]
     },
     "execution_count": 165,
     "metadata": {},
     "output_type": "execute_result"
    },
    {
     "data": {
      "image/png": "[encoded data removed]",
      "text/plain": [
       "<Figure size 432x288 with 1 Axes>"
      ]
     },
     "metadata": {},
     "output_type": "display_data"
    }
   ],
   "source": [
    "df10 = pd.DataFrame({'Price (USD)':[10,11,15,19,22],'Units Sold (thousands)':[55,57,49,48,39]})\n",
    "sns.scatterplot(df10['Price (USD)'],df10['Units Sold (thousands)'])"
   ]
  },
  {
   "cell_type": "markdown",
   "metadata": {},
   "source": [
    "There appears to be a correlation, but how strong?\n",
    "\n",
    "- Find the mean of x and y"
   ]
  },
  {
   "cell_type": "code",
   "execution_count": 146,
   "metadata": {},
   "outputs": [
    {
     "data": {
      "text/plain": [
       "(15.4, 49.6)"
      ]
     },
     "execution_count": 146,
     "metadata": {},
     "output_type": "execute_result"
    }
   ],
   "source": [
    "df10['Price (USD)'].mean(),df10['Units Sold (thousands)'].mean()"
   ]
  },
  {
   "cell_type": "code",
   "execution_count": 166,
   "metadata": {},
   "outputs": [],
   "source": [
    "df10['x-bar'] = df10['Price (USD)'].mean()\n",
    "df10['y-bar'] = df10['Units Sold (thousands)'].mean()\n",
    "df10['(x - x-bar)'] =  df10['Price (USD)'] - df10['x-bar']\n",
    "df10['(y - y-bar)'] =  df10['Units Sold (thousands)'] - df10['y-bar']\n",
    "df10['(x - x-bar)(y - y-bar)']  = df10['(x - x-bar)']* df10['(y - y-bar)']\n",
    "df10['(x - x-bar)^2'] = df10['(x - x-bar)']** 2\n",
    "df10['(y - y-bar)^2'] = df10['(y - y-bar)'] **2"
   ]
  },
  {
   "cell_type": "code",
   "execution_count": 167,
   "metadata": {},
   "outputs": [
    {
     "data": {
      "text/html": [
       "<div>\n",
       "<style scoped>\n",
       "    .dataframe tbody tr th:only-of-type {\n",
       "        vertical-align: middle;\n",
       "    }\n",
       "\n",
       "    .dataframe tbody tr th {\n",
       "        vertical-align: top;\n",
       "    }\n",
       "\n",
       "    .dataframe thead th {\n",
       "        text-align: right;\n",
       "    }\n",
       "</style>\n",
       "<table border=\"1\" class=\"dataframe\">\n",
       "  <thead>\n",
       "    <tr style=\"text-align: right;\">\n",
       "      <th></th>\n",
       "      <th>Price (USD)</th>\n",
       "      <th>Units Sold (thousands)</th>\n",
       "      <th>x-bar</th>\n",
       "      <th>y-bar</th>\n",
       "      <th>(x - x-bar)</th>\n",
       "      <th>(y - y-bar)</th>\n",
       "      <th>(x - x-bar)(y - y-bar)</th>\n",
       "      <th>(x - x-bar)^2</th>\n",
       "      <th>(y - y-bar)^2</th>\n",
       "    </tr>\n",
       "  </thead>\n",
       "  <tbody>\n",
       "    <tr>\n",
       "      <th>0</th>\n",
       "      <td>10</td>\n",
       "      <td>55</td>\n",
       "      <td>15.4</td>\n",
       "      <td>49.6</td>\n",
       "      <td>-5.4</td>\n",
       "      <td>5.4</td>\n",
       "      <td>-29.16</td>\n",
       "      <td>29.16</td>\n",
       "      <td>29.16</td>\n",
       "    </tr>\n",
       "    <tr>\n",
       "      <th>1</th>\n",
       "      <td>11</td>\n",
       "      <td>57</td>\n",
       "      <td>15.4</td>\n",
       "      <td>49.6</td>\n",
       "      <td>-4.4</td>\n",
       "      <td>7.4</td>\n",
       "      <td>-32.56</td>\n",
       "      <td>19.36</td>\n",
       "      <td>54.76</td>\n",
       "    </tr>\n",
       "    <tr>\n",
       "      <th>2</th>\n",
       "      <td>15</td>\n",
       "      <td>49</td>\n",
       "      <td>15.4</td>\n",
       "      <td>49.6</td>\n",
       "      <td>-0.4</td>\n",
       "      <td>-0.6</td>\n",
       "      <td>0.24</td>\n",
       "      <td>0.16</td>\n",
       "      <td>0.36</td>\n",
       "    </tr>\n",
       "    <tr>\n",
       "      <th>3</th>\n",
       "      <td>19</td>\n",
       "      <td>48</td>\n",
       "      <td>15.4</td>\n",
       "      <td>49.6</td>\n",
       "      <td>3.6</td>\n",
       "      <td>-1.6</td>\n",
       "      <td>-5.76</td>\n",
       "      <td>12.96</td>\n",
       "      <td>2.56</td>\n",
       "    </tr>\n",
       "    <tr>\n",
       "      <th>4</th>\n",
       "      <td>22</td>\n",
       "      <td>39</td>\n",
       "      <td>15.4</td>\n",
       "      <td>49.6</td>\n",
       "      <td>6.6</td>\n",
       "      <td>-10.6</td>\n",
       "      <td>-69.96</td>\n",
       "      <td>43.56</td>\n",
       "      <td>112.36</td>\n",
       "    </tr>\n",
       "  </tbody>\n",
       "</table>\n",
       "</div>"
      ],
      "text/plain": [
       "   Price (USD)  Units Sold (thousands)  x-bar  y-bar  (x - x-bar)  \\\n",
       "0           10                      55   15.4   49.6         -5.4   \n",
       "1           11                      57   15.4   49.6         -4.4   \n",
       "2           15                      49   15.4   49.6         -0.4   \n",
       "3           19                      48   15.4   49.6          3.6   \n",
       "4           22                      39   15.4   49.6          6.6   \n",
       "\n",
       "   (y - y-bar)  (x - x-bar)(y - y-bar)  (x - x-bar)^2  (y - y-bar)^2  \n",
       "0          5.4                  -29.16          29.16          29.16  \n",
       "1          7.4                  -32.56          19.36          54.76  \n",
       "2         -0.6                    0.24           0.16           0.36  \n",
       "3         -1.6                   -5.76          12.96           2.56  \n",
       "4        -10.6                  -69.96          43.56         112.36  "
      ]
     },
     "execution_count": 167,
     "metadata": {},
     "output_type": "execute_result"
    }
   ],
   "source": [
    "df10"
   ]
  },
  {
   "cell_type": "code",
   "execution_count": 171,
   "metadata": {},
   "outputs": [
    {
     "data": {
      "text/plain": [
       "(-5.4879999999999995, 21.040000000000003, 39.839999999999996)"
      ]
     },
     "execution_count": 171,
     "metadata": {},
     "output_type": "execute_result"
    }
   ],
   "source": [
    "# covariance \n",
    "df10['(x - x-bar)(y - y-bar)'].mean() / 5, df10['(x - x-bar)^2'].mean(), df10['(y - y-bar)^2'].mean()"
   ]
  },
  {
   "cell_type": "code",
   "execution_count": 170,
   "metadata": {},
   "outputs": [
    {
     "data": {
      "text/plain": [
       "(-137.2, 105.20000000000002, 199.2)"
      ]
     },
     "execution_count": 170,
     "metadata": {},
     "output_type": "execute_result"
    }
   ],
   "source": [
    "# sums \n",
    "df10['(x - x-bar)(y - y-bar)'].sum(), df10['(x - x-bar)^2'].sum(), df10['(y - y-bar)^2'].sum()"
   ]
  },
  {
   "cell_type": "code",
   "execution_count": 173,
   "metadata": {},
   "outputs": [
    {
     "data": {
      "text/plain": [
       "(10.256705123966467, 14.11382301150188)"
      ]
     },
     "execution_count": 173,
     "metadata": {},
     "output_type": "execute_result"
    }
   ],
   "source": [
    "199.2\n",
    "math.sqrt(105.2), math.sqrt(199.2)"
   ]
  },
  {
   "cell_type": "markdown",
   "metadata": {},
   "source": [
    "**the Pearson Coefficient** \n",
    "\n",
    "$\\frac{-137.2}{\\sqrt{105.2}\\sqrt{199.2}}  = \\frac{-137.2}{10.26 * 14.11}  = \\frac {-137.2} {144.8} = .948 $\n",
    "\n",
    "\n",
    "**.948**  \n",
    "This is very close to -1, so strongly negatively correlated. \n",
    "\n",
    "This aligns with the scatterplot. It doesn't *prove* that higher prices mean lower demand, but it does provide *evidence* for it. "
   ]
  },
  {
   "cell_type": "code",
   "execution_count": 174,
   "metadata": {},
   "outputs": [
    {
     "data": {
      "text/plain": [
       "<matplotlib.axes._subplots.AxesSubplot at 0x124e5df10>"
      ]
     },
     "execution_count": 174,
     "metadata": {},
     "output_type": "execute_result"
    },
    {
     "data": {
      "image/png": "[encoded data removed]",
      "text/plain": [
       "<Figure size 432x288 with 1 Axes>"
      ]
     },
     "metadata": {},
     "output_type": "display_data"
    }
   ],
   "source": [
    "sns.scatterplot(df10['Price (USD)'],df10['Units Sold (thousands)'])"
   ]
  },
  {
   "cell_type": "markdown",
   "metadata": {},
   "source": [
    "# Test\n",
    "\n",
    "\n",
    "EXERCISE #1 – Data\n",
    "1. What is data?\n",
    "Formally collected observations.\n",
    "\n",
    "2. Why do we use visualizations with data?\n",
    "To make it easier to extract meaning from data\n",
    "\n",
    "3. What is the difference between a population and a sample?\n",
    "Population includes all the data. A sample is a subset. \n",
    "\n",
    "4. Why do we use sampling?\n",
    "to make analysis tractable \n",
    "\n",
    "MEASUREMENTS OF DATA\n",
    "5. What level of measurement describes an employee's education level?\n",
    "Ordinal\n",
    "\n",
    "6. What level of measurement describes the time needed to complete a project?\n",
    "Ratio\n",
    "\n",
    "MATHEMATICAL SYMBOLS & SYNTAX  \n",
    "7. Set up and solve 5^3 \n",
    "In [80]: 5**3  \n",
    "Out[80]: 125\n",
    "\n",
    "8. Set up and solve 5!  \n",
    "In [82]: 5 * 4 * 3 * 2 * 1  \n",
    "Out[82]: 120\n",
    "\n",
    "9. Set up and solve $\\Sigma^{5}_{𝑥=1^{x}}$  \n",
    "In [91]: 1 + 2 + 3 + 4 + 5  \n",
    "Out[91]: 15\n",
    "\n",
    "\n",
    "MEASURES OF CENTRAL TENDENCY  \n",
    "10. Find the mean value of the series {6,12,8,5,10}  \n",
    "In [96]: arr = np.array([6,12,8,5,10])  \n",
    "In [97]: arr.mean()  \n",
    "Out[97]: 8.2\n",
    "\n",
    "11. Find the median value of the series {7,3,11,6,9,9}  \n",
    "In [100]: np.median(arr)  \n",
    "Out[100]: 8.0  \n",
    "\n",
    "MEASURES OF DISPERSION  \n",
    "12. Find the standard deviation of the series {2,10,8,6,3,7}  \n",
    "In [102]: arr.std()  \n",
    "Out[102]: 2.7688746209726918\n",
    "\n",
    "\n",
    "QUARTILES & INTERQUARTILE RANGE (IQR)\n",
    "13. Divide the following series into quartiles. {5,1,6,4,2,6,7,3,1,8,4,8} What are the boundaries of the IQR?\n",
    "\n",
    "Sort the data:\n",
    "In [103]: arr = [5,1,6,4,2,6,7,3,1,8,4,8]  \n",
    "\n",
    "In [104]: sorted(arr)  \n",
    "Out[104]: [1, 1, 2, 3, 4, 4, 5, 6, 6, 7, 8, 8]\n",
    "\n",
    "\n",
    "1st:  \n",
    "\n",
    "In [105]: np.percentile(arr,25)  \n",
    "Out[105]: 2.75  \n",
    "\n",
    "median:  \n",
    "In [106]: np.percentile(arr,50)  \n",
    "Out[106]: 4.5  \n",
    "\n",
    "third:  \n",
    "In [107]: np.percentile(arr,75)  \n",
    "Out[107]: 6.25  \n",
    "\n",
    "IQR = third - first = (6.25 - 2.75) = 3.5 \n",
    "\n",
    "Somehow the answers ended up at 2.5-6.5 (4) for the IQR, mucking the fence and the outlier calcs.  \n",
    "\n",
    "14. In the above problem, where would the upper fence fall using the 1.5 IQR method?\n",
    "\n",
    "In [109]: 3.5 * 1.5  \n",
    "Out[109]: 5.25\n",
    "\n",
    " so 6, 7 and 8 would be outliers\n",
    "\n",
    "BIVARIATE DATA\n",
    "15. Calculate the Pearson Correlation Coefficient for the following table of values: We recommend using a spreadsheet!  \n",
    "See the calcs below:\n",
    "\n",
    "16. Are these values correlated? Why or why not?\n",
    "Yes - because it's a positive number close to 1"
   ]
  },
  {
   "cell_type": "code",
   "execution_count": 6,
   "metadata": {},
   "outputs": [
    {
     "data": {
      "text/plain": [
       "<matplotlib.axes._subplots.AxesSubplot at 0x12b900890>"
      ]
     },
     "execution_count": 6,
     "metadata": {},
     "output_type": "execute_result"
    },
    {
     "data": {
      "image/png": "[encoded data removed]",
      "text/plain": [
       "<Figure size 432x288 with 1 Axes>"
      ]
     },
     "metadata": {
      "needs_background": "light"
     },
     "output_type": "display_data"
    }
   ],
   "source": [
    "import pandas as pd \n",
    "import seaborn as sns\n",
    "df20 = pd.DataFrame({'Height':[5,7, 11, 12, 15],'Weight':[143,145,147,157,158]})\n",
    "sns.scatterplot(df20['Height'],df20['Weight'])"
   ]
  },
  {
   "cell_type": "code",
   "execution_count": 7,
   "metadata": {},
   "outputs": [],
   "source": [
    "# get x-bar, y-bar, (x - x-bar), (y - y-bar), ((x - x-bar)(y - y-bar)), (x - x-bar)^2 and (y - y-bar)^2\n",
    "df20['x-bar'] = df20['Height'].mean()\n",
    "df20['y-bar'] = df20['Weight'].mean()\n",
    "df20['(x - x-bar)'] =  df20['Height'] - df20['x-bar']\n",
    "df20['(y - y-bar)'] =  df20['Weight'] - df20['y-bar']\n",
    "df20['(x - x-bar)(y - y-bar)']  = df20['(x - x-bar)']* df20['(y - y-bar)']\n",
    "df20['(x - x-bar)^2'] = df20['(x - x-bar)']** 2\n",
    "df20['(y - y-bar)^2'] = df20['(y - y-bar)'] **2"
   ]
  },
  {
   "cell_type": "code",
   "execution_count": 8,
   "metadata": {},
   "outputs": [
    {
     "data": {
      "text/plain": [
       "(4.04, 12.8, 39.2)"
      ]
     },
     "execution_count": 8,
     "metadata": {},
     "output_type": "execute_result"
    }
   ],
   "source": [
    "# covariance \n",
    "df20['(x - x-bar)(y - y-bar)'].mean() / 5, df20['(x - x-bar)^2'].mean(), df20['(y - y-bar)^2'].mean()"
   ]
  },
  {
   "cell_type": "code",
   "execution_count": 9,
   "metadata": {},
   "outputs": [
    {
     "data": {
      "text/plain": [
       "(101.0, 64.0, 196.0)"
      ]
     },
     "execution_count": 9,
     "metadata": {},
     "output_type": "execute_result"
    }
   ],
   "source": [
    "# sums \n",
    "df20['(x - x-bar)(y - y-bar)'].sum(), df20['(x - x-bar)^2'].sum(), df20['(y - y-bar)^2'].sum()"
   ]
  },
  {
   "cell_type": "code",
   "execution_count": 20,
   "metadata": {},
   "outputs": [
    {
     "data": {
      "text/plain": [
       "0.9018"
      ]
     },
     "execution_count": 20,
     "metadata": {},
     "output_type": "execute_result"
    }
   ],
   "source": [
    "# get the square roots of the denominators\n",
    "import math\n",
    "a,b = math.sqrt(64.0), math.sqrt(196.0) # get the square roots for the denominators\n",
    "round(101 / (a * b),4) # divide the first sum by the multiplied square roots to get the p-value"
   ]
  },
  {
   "cell_type": "code",
   "execution_count": null,
   "metadata": {},
   "outputs": [],
   "source": []
  }
 ],
 "metadata": {
  "kernelspec": {
   "display_name": "Python 3",
   "language": "python",
   "name": "python3"
  },
  "language_info": {
   "codemirror_mode": {
    "name": "ipython",
    "version": 3
   },
   "file_extension": ".py",
   "mimetype": "text/x-python",
   "name": "python",
   "nbconvert_exporter": "python",
   "pygments_lexer": "ipython3",
   "version": "3.7.7"
  }
 },
 "nbformat": 4,
 "nbformat_minor": 4
}
